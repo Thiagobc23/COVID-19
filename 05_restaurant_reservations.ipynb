{
 "cells": [
  {
   "cell_type": "code",
   "execution_count": 1,
   "metadata": {},
   "outputs": [],
   "source": [
    "import pandas as pd\n",
    "import numpy as np\n",
    "import imageio\n",
    "import matplotlib.pyplot as plt\n",
    "from geopy.geocoders import Nominatim"
   ]
  },
  {
   "cell_type": "code",
   "execution_count": 2,
   "metadata": {},
   "outputs": [],
   "source": [
    "path = \"C:/py/covid19/data/uncover/OpenTable/\"\n",
    "df = pd.read_csv(path + 'restaurant-performance-city.csv')"
   ]
  },
  {
   "cell_type": "code",
   "execution_count": 3,
   "metadata": {},
   "outputs": [
    {
     "data": {
      "text/html": [
       "<div>\n",
       "<style scoped>\n",
       "    .dataframe tbody tr th:only-of-type {\n",
       "        vertical-align: middle;\n",
       "    }\n",
       "\n",
       "    .dataframe tbody tr th {\n",
       "        vertical-align: top;\n",
       "    }\n",
       "\n",
       "    .dataframe thead th {\n",
       "        text-align: right;\n",
       "    }\n",
       "</style>\n",
       "<table border=\"1\" class=\"dataframe\">\n",
       "  <thead>\n",
       "    <tr style=\"text-align: right;\">\n",
       "      <th></th>\n",
       "      <th>region_type</th>\n",
       "      <th>city</th>\n",
       "      <th>state</th>\n",
       "      <th>country</th>\n",
       "      <th>percent_yoy_change</th>\n",
       "      <th>date</th>\n",
       "    </tr>\n",
       "  </thead>\n",
       "  <tbody>\n",
       "    <tr>\n",
       "      <th>0</th>\n",
       "      <td>cities</td>\n",
       "      <td>Atlanta</td>\n",
       "      <td>Georgia</td>\n",
       "      <td>United States</td>\n",
       "      <td>6</td>\n",
       "      <td>2020-02-18</td>\n",
       "    </tr>\n",
       "    <tr>\n",
       "      <th>1</th>\n",
       "      <td>cities</td>\n",
       "      <td>Atlanta</td>\n",
       "      <td>Georgia</td>\n",
       "      <td>United States</td>\n",
       "      <td>9</td>\n",
       "      <td>2020-02-19</td>\n",
       "    </tr>\n",
       "    <tr>\n",
       "      <th>2</th>\n",
       "      <td>cities</td>\n",
       "      <td>Atlanta</td>\n",
       "      <td>Georgia</td>\n",
       "      <td>United States</td>\n",
       "      <td>-5</td>\n",
       "      <td>2020-02-20</td>\n",
       "    </tr>\n",
       "    <tr>\n",
       "      <th>3</th>\n",
       "      <td>cities</td>\n",
       "      <td>Atlanta</td>\n",
       "      <td>Georgia</td>\n",
       "      <td>United States</td>\n",
       "      <td>-5</td>\n",
       "      <td>2020-02-21</td>\n",
       "    </tr>\n",
       "    <tr>\n",
       "      <th>4</th>\n",
       "      <td>cities</td>\n",
       "      <td>Atlanta</td>\n",
       "      <td>Georgia</td>\n",
       "      <td>United States</td>\n",
       "      <td>-3</td>\n",
       "      <td>2020-02-22</td>\n",
       "    </tr>\n",
       "  </tbody>\n",
       "</table>\n",
       "</div>"
      ],
      "text/plain": [
       "  region_type     city    state        country  percent_yoy_change        date\n",
       "0      cities  Atlanta  Georgia  United States                   6  2020-02-18\n",
       "1      cities  Atlanta  Georgia  United States                   9  2020-02-19\n",
       "2      cities  Atlanta  Georgia  United States                  -5  2020-02-20\n",
       "3      cities  Atlanta  Georgia  United States                  -5  2020-02-21\n",
       "4      cities  Atlanta  Georgia  United States                  -3  2020-02-22"
      ]
     },
     "execution_count": 3,
     "metadata": {},
     "output_type": "execute_result"
    }
   ],
   "source": [
    "df.head()"
   ]
  },
  {
   "cell_type": "code",
   "execution_count": 4,
   "metadata": {},
   "outputs": [],
   "source": [
    "geolocator = Nominatim(user_agent=\"specify_your_app_name_here\")\n",
    "location = geolocator.geocode(\"Atlanta, Georgia\")"
   ]
  },
  {
   "cell_type": "code",
   "execution_count": 5,
   "metadata": {},
   "outputs": [],
   "source": [
    "#get posible combinations of city and state\n",
    "#temp_df = df[['city', 'state']].groupby(by=['city','state']).count()\n",
    "cities = df.city.unique().tolist()\n",
    "\n",
    "lat = []\n",
    "lon = []\n",
    "\n",
    "for city in cities:\n",
    "    # search location name to get lat and lon\n",
    "    location = geolocator.geocode( city )\n",
    "    lat.append(location.latitude)\n",
    "    lon.append(location.longitude)"
   ]
  },
  {
   "cell_type": "code",
   "execution_count": 6,
   "metadata": {},
   "outputs": [
    {
     "data": {
      "text/html": [
       "<div>\n",
       "<style scoped>\n",
       "    .dataframe tbody tr th:only-of-type {\n",
       "        vertical-align: middle;\n",
       "    }\n",
       "\n",
       "    .dataframe tbody tr th {\n",
       "        vertical-align: top;\n",
       "    }\n",
       "\n",
       "    .dataframe thead th {\n",
       "        text-align: right;\n",
       "    }\n",
       "</style>\n",
       "<table border=\"1\" class=\"dataframe\">\n",
       "  <thead>\n",
       "    <tr style=\"text-align: right;\">\n",
       "      <th></th>\n",
       "      <th>city</th>\n",
       "      <th>lat</th>\n",
       "      <th>lon</th>\n",
       "    </tr>\n",
       "  </thead>\n",
       "  <tbody>\n",
       "    <tr>\n",
       "      <th>0</th>\n",
       "      <td>Atlanta</td>\n",
       "      <td>33.749099</td>\n",
       "      <td>-84.390185</td>\n",
       "    </tr>\n",
       "    <tr>\n",
       "      <th>1</th>\n",
       "      <td>Austin</td>\n",
       "      <td>30.271129</td>\n",
       "      <td>-97.743700</td>\n",
       "    </tr>\n",
       "    <tr>\n",
       "      <th>2</th>\n",
       "      <td>Baltimore</td>\n",
       "      <td>39.290882</td>\n",
       "      <td>-76.610759</td>\n",
       "    </tr>\n",
       "    <tr>\n",
       "      <th>3</th>\n",
       "      <td>Boston</td>\n",
       "      <td>42.360253</td>\n",
       "      <td>-71.058291</td>\n",
       "    </tr>\n",
       "    <tr>\n",
       "      <th>4</th>\n",
       "      <td>Calgary</td>\n",
       "      <td>51.053423</td>\n",
       "      <td>-114.062589</td>\n",
       "    </tr>\n",
       "  </tbody>\n",
       "</table>\n",
       "</div>"
      ],
      "text/plain": [
       "        city        lat         lon\n",
       "0    Atlanta  33.749099  -84.390185\n",
       "1     Austin  30.271129  -97.743700\n",
       "2  Baltimore  39.290882  -76.610759\n",
       "3     Boston  42.360253  -71.058291\n",
       "4    Calgary  51.053423 -114.062589"
      ]
     },
     "execution_count": 6,
     "metadata": {},
     "output_type": "execute_result"
    }
   ],
   "source": [
    "df_loc = pd.DataFrame(cities)\n",
    "df_loc.columns = ['city']\n",
    "df_loc['lat'] = lat\n",
    "df_loc['lon'] = lon\n",
    "\n",
    "df_loc.head()"
   ]
  },
  {
   "cell_type": "code",
   "execution_count": 7,
   "metadata": {},
   "outputs": [],
   "source": [
    "lat = []\n",
    "lon = []\n",
    "for i, row in df.iterrows():\n",
    "    lat.append(df_loc[df_loc['city'] == row['city']]['lat'].values[0])\n",
    "    lon.append(df_loc[df_loc['city'] == row['city']]['lon'].values[0])"
   ]
  },
  {
   "cell_type": "code",
   "execution_count": 8,
   "metadata": {},
   "outputs": [],
   "source": [
    "df['lat'] = lat\n",
    "df['lon'] = lon\n",
    "df['date'] = pd.to_datetime(df['date']).dt.date"
   ]
  },
  {
   "cell_type": "code",
   "execution_count": 9,
   "metadata": {},
   "outputs": [
    {
     "data": {
      "text/html": [
       "<div>\n",
       "<style scoped>\n",
       "    .dataframe tbody tr th:only-of-type {\n",
       "        vertical-align: middle;\n",
       "    }\n",
       "\n",
       "    .dataframe tbody tr th {\n",
       "        vertical-align: top;\n",
       "    }\n",
       "\n",
       "    .dataframe thead th {\n",
       "        text-align: right;\n",
       "    }\n",
       "</style>\n",
       "<table border=\"1\" class=\"dataframe\">\n",
       "  <thead>\n",
       "    <tr style=\"text-align: right;\">\n",
       "      <th></th>\n",
       "      <th>region_type</th>\n",
       "      <th>city</th>\n",
       "      <th>state</th>\n",
       "      <th>country</th>\n",
       "      <th>percent_yoy_change</th>\n",
       "      <th>date</th>\n",
       "      <th>lat</th>\n",
       "      <th>lon</th>\n",
       "    </tr>\n",
       "  </thead>\n",
       "  <tbody>\n",
       "    <tr>\n",
       "      <th>0</th>\n",
       "      <td>cities</td>\n",
       "      <td>Atlanta</td>\n",
       "      <td>Georgia</td>\n",
       "      <td>United States</td>\n",
       "      <td>6</td>\n",
       "      <td>2020-02-18</td>\n",
       "      <td>33.749099</td>\n",
       "      <td>-84.390185</td>\n",
       "    </tr>\n",
       "    <tr>\n",
       "      <th>1</th>\n",
       "      <td>cities</td>\n",
       "      <td>Atlanta</td>\n",
       "      <td>Georgia</td>\n",
       "      <td>United States</td>\n",
       "      <td>9</td>\n",
       "      <td>2020-02-19</td>\n",
       "      <td>33.749099</td>\n",
       "      <td>-84.390185</td>\n",
       "    </tr>\n",
       "    <tr>\n",
       "      <th>2</th>\n",
       "      <td>cities</td>\n",
       "      <td>Atlanta</td>\n",
       "      <td>Georgia</td>\n",
       "      <td>United States</td>\n",
       "      <td>-5</td>\n",
       "      <td>2020-02-20</td>\n",
       "      <td>33.749099</td>\n",
       "      <td>-84.390185</td>\n",
       "    </tr>\n",
       "    <tr>\n",
       "      <th>3</th>\n",
       "      <td>cities</td>\n",
       "      <td>Atlanta</td>\n",
       "      <td>Georgia</td>\n",
       "      <td>United States</td>\n",
       "      <td>-5</td>\n",
       "      <td>2020-02-21</td>\n",
       "      <td>33.749099</td>\n",
       "      <td>-84.390185</td>\n",
       "    </tr>\n",
       "    <tr>\n",
       "      <th>4</th>\n",
       "      <td>cities</td>\n",
       "      <td>Atlanta</td>\n",
       "      <td>Georgia</td>\n",
       "      <td>United States</td>\n",
       "      <td>-3</td>\n",
       "      <td>2020-02-22</td>\n",
       "      <td>33.749099</td>\n",
       "      <td>-84.390185</td>\n",
       "    </tr>\n",
       "  </tbody>\n",
       "</table>\n",
       "</div>"
      ],
      "text/plain": [
       "  region_type     city    state        country  percent_yoy_change  \\\n",
       "0      cities  Atlanta  Georgia  United States                   6   \n",
       "1      cities  Atlanta  Georgia  United States                   9   \n",
       "2      cities  Atlanta  Georgia  United States                  -5   \n",
       "3      cities  Atlanta  Georgia  United States                  -5   \n",
       "4      cities  Atlanta  Georgia  United States                  -3   \n",
       "\n",
       "         date        lat        lon  \n",
       "0  2020-02-18  33.749099 -84.390185  \n",
       "1  2020-02-19  33.749099 -84.390185  \n",
       "2  2020-02-20  33.749099 -84.390185  \n",
       "3  2020-02-21  33.749099 -84.390185  \n",
       "4  2020-02-22  33.749099 -84.390185  "
      ]
     },
     "execution_count": 9,
     "metadata": {},
     "output_type": "execute_result"
    }
   ],
   "source": [
    "df.head()"
   ]
  },
  {
   "cell_type": "code",
   "execution_count": 10,
   "metadata": {},
   "outputs": [],
   "source": [
    "dates = df.date.unique()"
   ]
  },
  {
   "cell_type": "code",
   "execution_count": 11,
   "metadata": {},
   "outputs": [],
   "source": [
    "import geopandas as gpd\n",
    "from mpl_toolkits.axes_grid1 import make_axes_locatable\n",
    "\n",
    "world = gpd.read_file(gpd.datasets.get_path('naturalearth_lowres'))\n",
    "world = world[~world.name.isin([\"Antarctica\", \"Fr. S. Antarctic Lands\"])]"
   ]
  },
  {
   "cell_type": "code",
   "execution_count": 12,
   "metadata": {},
   "outputs": [],
   "source": [
    "def plot_map(df, i):\n",
    "    fig, ax = plt.subplots(1, figsize=(20,10), facecolor='lightblue')\n",
    "\n",
    "    # plot map\n",
    "    world.plot(ax=ax, color='gray')\n",
    "    \n",
    "    myMap = df[df['date'] == i]\n",
    "    # plot infected locations\n",
    "    plt.scatter(x=myMap['lon'], y=myMap['lat'], s=200, c=myMap['percent_yoy_change'], \n",
    "                cmap='viridis', vmin=-100, vmax=20)\n",
    "    \n",
    "    plt.text(-60, 90, str(i)+'\\nRestaurant Reservations YOY change', color = 'black', fontsize = 50, ha='center')\n",
    "    \n",
    "    ax.set_xlim(-170, 30)\n",
    "    ax.set_ylim(0, 80)\n",
    "    \n",
    "    # set an axis for the color bar\n",
    "    divider = make_axes_locatable(ax)\n",
    "    cax = divider.append_axes(\"right\", size=\"3%\", pad=0.05)\n",
    "    # color bar\n",
    "    sm = plt.cm.ScalarMappable(cmap='viridis', norm=plt.Normalize(vmin=-100, vmax=20))\n",
    "    sm._A = []\n",
    "    cbar = fig.colorbar(sm, cax=cax)\n",
    "    #cbar.ax.set_yticklabels(['-100%', '-75%', '-50%', '-25%', '0%', '25%', '50%', '75%', '100%'])\n",
    "    cbar.ax.set_yticklabels(['-100%', '-80%', '-60%', '-40%', '-20%', '0%', '20%'])\n",
    "    \n",
    "    cbar.ax.tick_params(labelsize=18)\n",
    "    \n",
    "        \n",
    "    plt.subplots_adjust(left=0, right=0.95, top=1, bottom=-0.2)\n",
    "    # hide map axis\n",
    "    ax.axis('off')\n",
    "    \n",
    "    plt.savefig('pics/reserve/restaurant'+str(i)+'.png', facecolor='lightblue', edgecolor='none')\n",
    "    plt.close()\n",
    "    \n",
    "#plot_map(df, dates[1])"
   ]
  },
  {
   "cell_type": "code",
   "execution_count": 13,
   "metadata": {},
   "outputs": [],
   "source": [
    "filenames = []\n",
    "for date in dates:\n",
    "    plot_map(df, date)\n",
    "    filenames.append('pics/reserve/restaurant'+str(date)+'.png')"
   ]
  },
  {
   "cell_type": "code",
   "execution_count": 14,
   "metadata": {},
   "outputs": [],
   "source": [
    "\n",
    "# build a .gif with the pictures\n",
    "def build_gif(filenames, title, duration=1):\n",
    "    images = []\n",
    "    for filename in filenames:\n",
    "        images.append(imageio.imread(filename))\n",
    "\n",
    "    imageio.mimwrite((title + '.gif'), images, duration=duration)"
   ]
  },
  {
   "cell_type": "code",
   "execution_count": 15,
   "metadata": {},
   "outputs": [],
   "source": [
    "build_gif(filenames, 'restaurants', 0.5)"
   ]
  },
  {
   "cell_type": "code",
   "execution_count": null,
   "metadata": {},
   "outputs": [],
   "source": []
  },
  {
   "cell_type": "code",
   "execution_count": null,
   "metadata": {},
   "outputs": [],
   "source": []
  }
 ],
 "metadata": {
  "kernelspec": {
   "display_name": "Python 3",
   "language": "python",
   "name": "python3"
  },
  "language_info": {
   "codemirror_mode": {
    "name": "ipython",
    "version": 3
   },
   "file_extension": ".py",
   "mimetype": "text/x-python",
   "name": "python",
   "nbconvert_exporter": "python",
   "pygments_lexer": "ipython3",
   "version": "3.7.3"
  },
  "toc": {
   "base_numbering": 1,
   "nav_menu": {},
   "number_sections": true,
   "sideBar": true,
   "skip_h1_title": false,
   "title_cell": "Table of Contents",
   "title_sidebar": "Contents",
   "toc_cell": false,
   "toc_position": {},
   "toc_section_display": true,
   "toc_window_display": false
  }
 },
 "nbformat": 4,
 "nbformat_minor": 4
}
